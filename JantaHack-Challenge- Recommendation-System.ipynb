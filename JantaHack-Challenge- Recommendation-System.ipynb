{
  "nbformat": 4,
  "nbformat_minor": 0,
  "metadata": {
    "colab": {
      "name": "final-turicreate_recommend.ipynb",
      "provenance": [],
      "collapsed_sections": [],
      "toc_visible": true
    },
    "kernelspec": {
      "name": "python3",
      "display_name": "Python 3"
    }
  },
  "cells": [
    {
      "cell_type": "markdown",
      "metadata": {
        "id": "76yggxZZPFIT",
        "colab_type": "text"
      },
      "source": [
        "# JanataHack: Recommendation Systems\n"
      ]
    },
    {
      "cell_type": "markdown",
      "metadata": {
        "id": "qv4HOCwiPM8L",
        "colab_type": "text"
      },
      "source": [
        "Insights about the dataset\n",
        "\n",
        "- Your client is a fast-growing mobile platform, for hosting coding challenges. They have a unique business model, where they crowdsource problems from various creators(authors). These authors create the problem and release it on the client's platform. The users then select the challenges they want to solve. The authors make money based on the level of difficulty of their problems and how many users take up their challenge.\n",
        "\n",
        "\n",
        "- The client, on the other hand makes money when the users can find challenges of their interest and continue to stay on the platform. Till date, the client has relied on its domain expertise, user interface and experience with user behaviour to suggest the problems a user might be interested in. You have now been appointed as the data scientist who needs to come up with the algorithm to keep the users engaged on the platform.\n",
        "\n",
        "- The client has provided you with history of last 10 challenges the user has solved, and you need to predict which might be the next 3 challenges the user might be interested to solve. Apply your data science skills to help the client make a big mark in their user engagements/revenue.\n"
      ]
    },
    {
      "cell_type": "markdown",
      "metadata": {
        "id": "-Svse3ScRTUy",
        "colab_type": "text"
      },
      "source": [
        "### Challenge: \n",
        "Contains the first 10 challenges solved by a new user set (not in train) in the test set. We need to predict the next 3 sequence of challenges for these users.\n"
      ]
    },
    {
      "cell_type": "markdown",
      "metadata": {
        "id": "lN8OuzONPdCx",
        "colab_type": "text"
      },
      "source": [
        "## 1.Importing Packages"
      ]
    },
    {
      "cell_type": "code",
      "metadata": {
        "id": "hAb18QNGtI-z",
        "colab_type": "code",
        "colab": {}
      },
      "source": [
        "import numpy as np\n",
        "import pandas as pd\n",
        "import gc \n",
        "pd.set_option('display.max_columns', 50)\n",
        "import warnings\n",
        "warnings.filterwarnings(\"ignore\")"
      ],
      "execution_count": null,
      "outputs": []
    },
    {
      "cell_type": "code",
      "metadata": {
        "id": "NrnPeCw7ttwu",
        "colab_type": "code",
        "colab": {}
      },
      "source": [
        "import scipy\n",
        "import matplotlib.pyplot as plt\n",
        "%matplotlib inline\n",
        "import seaborn as sns\n",
        "import numpy as np\n",
        "import random\n",
        "import datetime\n",
        "import warnings\n",
        "warnings.filterwarnings('ignore')\n",
        "from scipy import stats\n",
        "from sklearn.preprocessing import LabelEncoder"
      ],
      "execution_count": null,
      "outputs": []
    },
    {
      "cell_type": "markdown",
      "metadata": {
        "id": "zThZQnQmPhhg",
        "colab_type": "text"
      },
      "source": [
        "## 2.Importing the dataset"
      ]
    },
    {
      "cell_type": "code",
      "metadata": {
        "id": "RSfFroqoRrT7",
        "colab_type": "code",
        "colab": {}
      },
      "source": [
        "# from google.colab import drive\n",
        "# drive.mount('/content/drive')"
      ],
      "execution_count": null,
      "outputs": []
    },
    {
      "cell_type": "code",
      "metadata": {
        "id": "s-FjTnNeOek-",
        "colab_type": "code",
        "colab": {}
      },
      "source": [
        "train = pd.read_csv(r\"https://raw.githubusercontent.com/shrikantnarayankar15/Insaid-ML-advanced-project/master/train.csv\")\n",
        "test = pd.read_csv(r\"https://raw.githubusercontent.com/shrikantnarayankar15/Insaid-ML-advanced-project/master/test.csv\")"
      ],
      "execution_count": null,
      "outputs": []
    },
    {
      "cell_type": "markdown",
      "metadata": {
        "id": "farLKI67Plhf",
        "colab_type": "text"
      },
      "source": [
        "### Insights about training and testing dataset\n",
        "user_sequence\t-> Unique ID for the sequence<br>\n",
        "user_id\t-> User ID<br>\n",
        "challenge_sequence\t-> Challenge sequence number (1-13)<br>\n",
        "challenge\t-> Challenge ID <br>"
      ]
    },
    {
      "cell_type": "code",
      "metadata": {
        "id": "G91-1VtAP6yS",
        "colab_type": "code",
        "colab": {}
      },
      "source": [
        "challenge = pd.read_csv(r\"https://raw.githubusercontent.com/shrikantnarayankar15/Insaid-ML-advanced-project/master/challenge_data.csv\")"
      ],
      "execution_count": null,
      "outputs": []
    },
    {
      "cell_type": "markdown",
      "metadata": {
        "id": "fS9eCyRKQCyJ",
        "colab_type": "text"
      },
      "source": [
        "### Insights about challenge dataset\n",
        "challenge_ID->\tChallenge ID<br>\n",
        "programming_language\t->Programming language for the challenge<br>\n",
        "challenge_series_ID\t->Series for the given challenge<br>\n",
        "total_submissions\t->Total submissions by all users<br>\n",
        "publish_date  ->\tPublishing date for the challenge<br>\n",
        "author_ID\t->Author ID<br>\n",
        "author_gender ->\tAuthor gender<br>\n",
        "author_org_ID\t->Organization ID for author<br>\n",
        "category_id\t-> Type of challenge<br>"
      ]
    },
    {
      "cell_type": "code",
      "metadata": {
        "id": "6uuXwcGzSxXv",
        "colab_type": "code",
        "colab": {
          "base_uri": "https://localhost:8080/",
          "height": 212
        },
        "outputId": "136ca887-6bab-404f-ea55-c4341686aa30"
      },
      "source": [
        "train.info()"
      ],
      "execution_count": null,
      "outputs": [
        {
          "output_type": "stream",
          "text": [
            "<class 'pandas.core.frame.DataFrame'>\n",
            "RangeIndex: 903916 entries, 0 to 903915\n",
            "Data columns (total 4 columns):\n",
            " #   Column              Non-Null Count   Dtype \n",
            "---  ------              --------------   ----- \n",
            " 0   user_sequence       903916 non-null  object\n",
            " 1   user_id             903916 non-null  int64 \n",
            " 2   challenge_sequence  903916 non-null  int64 \n",
            " 3   challenge           903916 non-null  object\n",
            "dtypes: int64(2), object(2)\n",
            "memory usage: 27.6+ MB\n"
          ],
          "name": "stdout"
        }
      ]
    },
    {
      "cell_type": "code",
      "metadata": {
        "id": "FAmErfpgSy__",
        "colab_type": "code",
        "colab": {
          "base_uri": "https://localhost:8080/",
          "height": 212
        },
        "outputId": "761387d7-e46e-4b64-876d-14fae3c3bfa1"
      },
      "source": [
        "test.info()"
      ],
      "execution_count": null,
      "outputs": [
        {
          "output_type": "stream",
          "text": [
            "<class 'pandas.core.frame.DataFrame'>\n",
            "RangeIndex: 397320 entries, 0 to 397319\n",
            "Data columns (total 4 columns):\n",
            " #   Column              Non-Null Count   Dtype \n",
            "---  ------              --------------   ----- \n",
            " 0   user_sequence       397320 non-null  object\n",
            " 1   user_id             397320 non-null  int64 \n",
            " 2   challenge_sequence  397320 non-null  int64 \n",
            " 3   challenge           397320 non-null  object\n",
            "dtypes: int64(2), object(2)\n",
            "memory usage: 12.1+ MB\n"
          ],
          "name": "stdout"
        }
      ]
    },
    {
      "cell_type": "code",
      "metadata": {
        "id": "n6ImAvt8S1H5",
        "colab_type": "code",
        "colab": {
          "base_uri": "https://localhost:8080/",
          "height": 301
        },
        "outputId": "1aa5aa2f-d8c8-40cb-d06a-281b1491cffa"
      },
      "source": [
        "challenge.info()"
      ],
      "execution_count": null,
      "outputs": [
        {
          "output_type": "stream",
          "text": [
            "<class 'pandas.core.frame.DataFrame'>\n",
            "RangeIndex: 5606 entries, 0 to 5605\n",
            "Data columns (total 9 columns):\n",
            " #   Column                Non-Null Count  Dtype  \n",
            "---  ------                --------------  -----  \n",
            " 0   challenge_ID          5606 non-null   object \n",
            " 1   programming_language  5606 non-null   int64  \n",
            " 2   challenge_series_ID   5594 non-null   object \n",
            " 3   total_submissions     5254 non-null   float64\n",
            " 4   publish_date          5606 non-null   object \n",
            " 5   author_ID             5567 non-null   object \n",
            " 6   author_gender         5509 non-null   object \n",
            " 7   author_org_ID         5358 non-null   object \n",
            " 8   category_id           3765 non-null   float64\n",
            "dtypes: float64(2), int64(1), object(6)\n",
            "memory usage: 394.3+ KB\n"
          ],
          "name": "stdout"
        }
      ]
    },
    {
      "cell_type": "markdown",
      "metadata": {
        "id": "xA7CYzvqS6l5",
        "colab_type": "text"
      },
      "source": [
        "### Total records for the datasets\n",
        "Train - 903916 rows <br>\n",
        "Test - 397320 rows <br>\n",
        "challenge - 5606  rows <br>"
      ]
    },
    {
      "cell_type": "markdown",
      "metadata": {
        "id": "WrhD3RwfQd9e",
        "colab_type": "text"
      },
      "source": [
        "## 3.Data-Preprocessing"
      ]
    },
    {
      "cell_type": "markdown",
      "metadata": {
        "id": "HFjrOc5OQjbQ",
        "colab_type": "text"
      },
      "source": [
        "#### 3.1.Checking the null values"
      ]
    },
    {
      "cell_type": "code",
      "metadata": {
        "id": "94U9o_kFR4uJ",
        "colab_type": "code",
        "colab": {
          "base_uri": "https://localhost:8080/",
          "height": 195
        },
        "outputId": "9b62315f-90f7-4964-9374-5be84821f3c1"
      },
      "source": [
        "challenge.isnull().sum()"
      ],
      "execution_count": null,
      "outputs": [
        {
          "output_type": "execute_result",
          "data": {
            "text/plain": [
              "challenge_ID               0\n",
              "programming_language       0\n",
              "challenge_series_ID       12\n",
              "total_submissions        352\n",
              "publish_date               0\n",
              "author_ID                 39\n",
              "author_gender             97\n",
              "author_org_ID            248\n",
              "category_id             1841\n",
              "dtype: int64"
            ]
          },
          "metadata": {
            "tags": []
          },
          "execution_count": 54
        }
      ]
    },
    {
      "cell_type": "code",
      "metadata": {
        "id": "RCQfYr8RTuz3",
        "colab_type": "code",
        "colab": {
          "base_uri": "https://localhost:8080/",
          "height": 283
        },
        "outputId": "eb0b0c9c-0ca6-431e-8c06-f1a78f6c295a"
      },
      "source": [
        "challenge.isnull().sum().plot(kind='barh')"
      ],
      "execution_count": null,
      "outputs": [
        {
          "output_type": "execute_result",
          "data": {
            "text/plain": [
              "<matplotlib.axes._subplots.AxesSubplot at 0x7f37d5f79278>"
            ]
          },
          "metadata": {
            "tags": []
          },
          "execution_count": 55
        },
        {
          "output_type": "display_data",
          "data": {
            "image/png": "[encoded data removed]",
            "text/plain": [
              "<Figure size 432x288 with 1 Axes>"
            ]
          },
          "metadata": {
            "tags": [],
            "needs_background": "light"
          }
        }
      ]
    },
    {
      "cell_type": "markdown",
      "metadata": {
        "id": "xfdXuLSaTXfa",
        "colab_type": "text"
      },
      "source": [
        "- Insights\n",
        "  - category id column have more no of missing values\n",
        "  - Here  total_submissions are numeric features will fill them by mean values\n",
        "  - however  author_ID, author_gender, author_org_ID,challenge_series_ID,category_id are categorical features will fill them by mode values"
      ]
    },
    {
      "cell_type": "code",
      "metadata": {
        "id": "rnn6yp0aUAvH",
        "colab_type": "code",
        "colab": {
          "base_uri": "https://localhost:8080/",
          "height": 88
        },
        "outputId": "328e2a6c-9d3d-42f0-8a35-2d021bb8142e"
      },
      "source": [
        "challenge.columns"
      ],
      "execution_count": null,
      "outputs": [
        {
          "output_type": "execute_result",
          "data": {
            "text/plain": [
              "Index(['challenge_ID', 'programming_language', 'challenge_series_ID',\n",
              "       'total_submissions', 'publish_date', 'author_ID', 'author_gender',\n",
              "       'author_org_ID', 'category_id'],\n",
              "      dtype='object')"
            ]
          },
          "metadata": {
            "tags": []
          },
          "execution_count": 56
        }
      ]
    },
    {
      "cell_type": "code",
      "metadata": {
        "id": "8qqP5vIEUV5d",
        "colab_type": "code",
        "colab": {}
      },
      "source": [
        "challenge['total_submissions'] = challenge['total_submissions'].fillna(challenge['total_submissions'].mean())"
      ],
      "execution_count": null,
      "outputs": []
    },
    {
      "cell_type": "code",
      "metadata": {
        "id": "dZscBKc3UrTC",
        "colab_type": "code",
        "colab": {}
      },
      "source": [
        "categorical_features = ['challenge_series_ID',\n",
        "        'author_ID', 'author_gender',\n",
        "       'author_org_ID', 'category_id']"
      ],
      "execution_count": null,
      "outputs": []
    },
    {
      "cell_type": "code",
      "metadata": {
        "id": "9K_MOqSFU2t5",
        "colab_type": "code",
        "colab": {}
      },
      "source": [
        "challenge[categorical_features] = challenge[categorical_features].apply(lambda x:x.fillna(x.mode()[0]))"
      ],
      "execution_count": null,
      "outputs": []
    },
    {
      "cell_type": "code",
      "metadata": {
        "id": "4IC9r8r-VBxH",
        "colab_type": "code",
        "colab": {
          "base_uri": "https://localhost:8080/",
          "height": 195
        },
        "outputId": "4faf4b8d-e35e-4d8f-e878-c806b7c079bc"
      },
      "source": [
        "challenge.isnull().sum()"
      ],
      "execution_count": null,
      "outputs": [
        {
          "output_type": "execute_result",
          "data": {
            "text/plain": [
              "challenge_ID            0\n",
              "programming_language    0\n",
              "challenge_series_ID     0\n",
              "total_submissions       0\n",
              "publish_date            0\n",
              "author_ID               0\n",
              "author_gender           0\n",
              "author_org_ID           0\n",
              "category_id             0\n",
              "dtype: int64"
            ]
          },
          "metadata": {
            "tags": []
          },
          "execution_count": 60
        }
      ]
    },
    {
      "cell_type": "markdown",
      "metadata": {
        "id": "FVL5JME0JWFf",
        "colab_type": "text"
      },
      "source": [
        "## 4.EDA on the data"
      ]
    },
    {
      "cell_type": "markdown",
      "metadata": {
        "id": "Wbv947rHJcMR",
        "colab_type": "text"
      },
      "source": [
        "### 4.1 EDA on the challenge dataset"
      ]
    },
    {
      "cell_type": "code",
      "metadata": {
        "id": "qKb9IURKJjW_",
        "colab_type": "code",
        "colab": {
          "base_uri": "https://localhost:8080/",
          "height": 301
        },
        "outputId": "babced69-80b4-4a89-e3ac-42b881a9efd1"
      },
      "source": [
        "challenge.info()"
      ],
      "execution_count": null,
      "outputs": [
        {
          "output_type": "stream",
          "text": [
            "<class 'pandas.core.frame.DataFrame'>\n",
            "RangeIndex: 5606 entries, 0 to 5605\n",
            "Data columns (total 9 columns):\n",
            " #   Column                Non-Null Count  Dtype  \n",
            "---  ------                --------------  -----  \n",
            " 0   challenge_ID          5606 non-null   object \n",
            " 1   programming_language  5606 non-null   int64  \n",
            " 2   challenge_series_ID   5606 non-null   object \n",
            " 3   total_submissions     5606 non-null   float64\n",
            " 4   publish_date          5606 non-null   object \n",
            " 5   author_ID             5606 non-null   object \n",
            " 6   author_gender         5606 non-null   object \n",
            " 7   author_org_ID         5606 non-null   object \n",
            " 8   category_id           5606 non-null   float64\n",
            "dtypes: float64(2), int64(1), object(6)\n",
            "memory usage: 394.3+ KB\n"
          ],
          "name": "stdout"
        }
      ]
    },
    {
      "cell_type": "code",
      "metadata": {
        "id": "29PWkEHqJ928",
        "colab_type": "code",
        "colab": {
          "base_uri": "https://localhost:8080/",
          "height": 280
        },
        "outputId": "3436dab0-d0ed-40e2-ba20-125898713d20"
      },
      "source": [
        "challenge['programming_language'].value_counts().plot(kind='bar')"
      ],
      "execution_count": null,
      "outputs": [
        {
          "output_type": "execute_result",
          "data": {
            "text/plain": [
              "<matplotlib.axes._subplots.AxesSubplot at 0x7f37d5638828>"
            ]
          },
          "metadata": {
            "tags": []
          },
          "execution_count": 62
        },
        {
          "output_type": "display_data",
          "data": {
            "image/png": "[encoded data removed]",
            "text/plain": [
              "<Figure size 432x288 with 1 Axes>"
            ]
          },
          "metadata": {
            "tags": [],
            "needs_background": "light"
          }
        }
      ]
    },
    {
      "cell_type": "markdown",
      "metadata": {
        "id": "F2Rre6EYKVer",
        "colab_type": "text"
      },
      "source": [
        "- Most of the challenges are from programming language 1\n",
        "- programming language 3 having less number of challenges"
      ]
    },
    {
      "cell_type": "code",
      "metadata": {
        "id": "rc9IZNbeKkmd",
        "colab_type": "code",
        "colab": {
          "base_uri": "https://localhost:8080/",
          "height": 308
        },
        "outputId": "70ace34c-449b-4454-ef5a-bdda2555dabd"
      },
      "source": [
        "challenge['challenge_series_ID'].value_counts().nlargest(10).plot(kind='bar')"
      ],
      "execution_count": null,
      "outputs": [
        {
          "output_type": "execute_result",
          "data": {
            "text/plain": [
              "<matplotlib.axes._subplots.AxesSubplot at 0x7f37d5638978>"
            ]
          },
          "metadata": {
            "tags": []
          },
          "execution_count": 63
        },
        {
          "output_type": "display_data",
          "data": {
            "image/png": "[encoded data removed]",
            "text/plain": [
              "<Figure size 432x288 with 1 Axes>"
            ]
          },
          "metadata": {
            "tags": [],
            "needs_background": "light"
          }
        }
      ]
    },
    {
      "cell_type": "markdown",
      "metadata": {
        "id": "kPoLeylBK29h",
        "colab_type": "text"
      },
      "source": [
        "- challenge series id is the category given to the challenge dataset\n",
        "- My assumption it represents same problem but with higher difficuly. like sorting algorithm...followed by its no of problems\n",
        "- the series ID SI2652 have more no. of challenges (137)"
      ]
    },
    {
      "cell_type": "code",
      "metadata": {
        "id": "mUwpDncNOULj",
        "colab_type": "code",
        "colab": {
          "base_uri": "https://localhost:8080/",
          "height": 230
        },
        "outputId": "f2425506-d1b6-4d5c-e706-1c392e05c14b"
      },
      "source": [
        "challenge.groupby('challenge_series_ID')['total_submissions'].sum().nlargest(10)"
      ],
      "execution_count": null,
      "outputs": [
        {
          "output_type": "execute_result",
          "data": {
            "text/plain": [
              "challenge_series_ID\n",
              "SI2545    80898.000000\n",
              "SI2634    79013.000000\n",
              "SI2468    54842.000000\n",
              "SI2677    51200.000000\n",
              "SI2709    50706.000000\n",
              "SI2556    43672.000000\n",
              "SI2501    35445.000000\n",
              "SI2482    30827.000000\n",
              "SI2469    29558.000000\n",
              "SI2652    27710.450324\n",
              "Name: total_submissions, dtype: float64"
            ]
          },
          "metadata": {
            "tags": []
          },
          "execution_count": 64
        }
      ]
    },
    {
      "cell_type": "code",
      "metadata": {
        "id": "QmDdDnOwNGuf",
        "colab_type": "code",
        "colab": {
          "base_uri": "https://localhost:8080/",
          "height": 323
        },
        "outputId": "523266d4-a020-450b-a505-4862f78ca270"
      },
      "source": [
        "challenge.groupby('challenge_series_ID')['total_submissions'].sum().nlargest(10).plot(kind='bar')"
      ],
      "execution_count": null,
      "outputs": [
        {
          "output_type": "execute_result",
          "data": {
            "text/plain": [
              "<matplotlib.axes._subplots.AxesSubplot at 0x7f37d3de0160>"
            ]
          },
          "metadata": {
            "tags": []
          },
          "execution_count": 65
        },
        {
          "output_type": "display_data",
          "data": {
            "image/png": "[encoded data removed]",
            "text/plain": [
              "<Figure size 432x288 with 1 Axes>"
            ]
          },
          "metadata": {
            "tags": [],
            "needs_background": "light"
          }
        }
      ]
    },
    {
      "cell_type": "markdown",
      "metadata": {
        "id": "sHfxuZBBPqVw",
        "colab_type": "text"
      },
      "source": [
        "SI2545    80898.000000<br>\n",
        "SI2634    79013.000000<br>\n",
        "SI2468    54842.000000<br>\n",
        "SI2677    51200.000000 <br>\n",
        "top submissions paid by this challenge_series_ids"
      ]
    },
    {
      "cell_type": "code",
      "metadata": {
        "id": "50JWCbXAQNQc",
        "colab_type": "code",
        "colab": {
          "base_uri": "https://localhost:8080/",
          "height": 321
        },
        "outputId": "0938535b-8e3e-42cf-ce35-7e8d397c1abc"
      },
      "source": [
        "challenge['author_ID'].value_counts().nlargest(10).plot(kind='bar')"
      ],
      "execution_count": null,
      "outputs": [
        {
          "output_type": "execute_result",
          "data": {
            "text/plain": [
              "<matplotlib.axes._subplots.AxesSubplot at 0x7f37d3de3320>"
            ]
          },
          "metadata": {
            "tags": []
          },
          "execution_count": 66
        },
        {
          "output_type": "display_data",
          "data": {
            "image/png": "[encoded data removed]",
            "text/plain": [
              "<Figure size 432x288 with 1 Axes>"
            ]
          },
          "metadata": {
            "tags": [],
            "needs_background": "light"
          }
        }
      ]
    },
    {
      "cell_type": "code",
      "metadata": {
        "id": "8rysQO6VQtDM",
        "colab_type": "code",
        "colab": {
          "base_uri": "https://localhost:8080/",
          "height": 212
        },
        "outputId": "19b9dd84-fbd7-44e6-e5ec-659914c271cf"
      },
      "source": [
        "challenge['author_ID'].value_counts().nlargest(10)"
      ],
      "execution_count": null,
      "outputs": [
        {
          "output_type": "execute_result",
          "data": {
            "text/plain": [
              "AI565468    141\n",
              "AI565908     67\n",
              "AI563576     52\n",
              "AI566371     34\n",
              "AI565469     32\n",
              "AI566891     30\n",
              "AI564275     25\n",
              "AI565907     24\n",
              "AI566419     23\n",
              "AI563655     22\n",
              "Name: author_ID, dtype: int64"
            ]
          },
          "metadata": {
            "tags": []
          },
          "execution_count": 67
        }
      ]
    },
    {
      "cell_type": "code",
      "metadata": {
        "id": "Htp_NrpRQFiJ",
        "colab_type": "code",
        "colab": {
          "base_uri": "https://localhost:8080/",
          "height": 282
        },
        "outputId": "502001d3-969c-435f-e93a-e5fbe9a00a93"
      },
      "source": [
        "challenge['author_gender'].value_counts().plot(kind='bar')"
      ],
      "execution_count": null,
      "outputs": [
        {
          "output_type": "execute_result",
          "data": {
            "text/plain": [
              "<matplotlib.axes._subplots.AxesSubplot at 0x7f37d3d2f080>"
            ]
          },
          "metadata": {
            "tags": []
          },
          "execution_count": 68
        },
        {
          "output_type": "display_data",
          "data": {
            "image/png": "[encoded data removed]",
            "text/plain": [
              "<Figure size 432x288 with 1 Axes>"
            ]
          },
          "metadata": {
            "tags": [],
            "needs_background": "light"
          }
        }
      ]
    },
    {
      "cell_type": "code",
      "metadata": {
        "id": "FMfwOW32Q6RF",
        "colab_type": "code",
        "colab": {
          "base_uri": "https://localhost:8080/",
          "height": 329
        },
        "outputId": "781309ee-fda2-4c89-84fd-706039ac35bb"
      },
      "source": [
        "challenge['author_org_ID'].value_counts().nlargest(5).plot(kind='bar')"
      ],
      "execution_count": null,
      "outputs": [
        {
          "output_type": "execute_result",
          "data": {
            "text/plain": [
              "<matplotlib.axes._subplots.AxesSubplot at 0x7f37d3cadb70>"
            ]
          },
          "metadata": {
            "tags": []
          },
          "execution_count": 69
        },
        {
          "output_type": "display_data",
          "data": {
            "image/png": "[encoded data removed]",
            "text/plain": [
              "<Figure size 432x288 with 1 Axes>"
            ]
          },
          "metadata": {
            "tags": [],
            "needs_background": "light"
          }
        }
      ]
    },
    {
      "cell_type": "markdown",
      "metadata": {
        "id": "j-W3p275QMLD",
        "colab_type": "text"
      },
      "source": [
        "- AI565468 author with this ID created 140 challenges\n",
        "- most of the authors are Males\n",
        "- most of the authors are from A0I100201 organization almost 600 authors"
      ]
    },
    {
      "cell_type": "markdown",
      "metadata": {
        "id": "t9tqGjiWRe88",
        "colab_type": "text"
      },
      "source": [
        "### 4.2 EDA on the training and testing Dataset"
      ]
    },
    {
      "cell_type": "markdown",
      "metadata": {
        "id": "vLlKX6yUSm7c",
        "colab_type": "text"
      },
      "source": [
        "Top 10 challenges that users liked most"
      ]
    },
    {
      "cell_type": "code",
      "metadata": {
        "id": "2PpwiYEjSfyU",
        "colab_type": "code",
        "colab": {
          "base_uri": "https://localhost:8080/",
          "height": 315
        },
        "outputId": "5ade313a-4a2b-4926-9d46-9408a85b1c80"
      },
      "source": [
        "train['challenge'].value_counts().nlargest(10).plot(kind='bar')"
      ],
      "execution_count": null,
      "outputs": [
        {
          "output_type": "execute_result",
          "data": {
            "text/plain": [
              "<matplotlib.axes._subplots.AxesSubplot at 0x7f37d3c327b8>"
            ]
          },
          "metadata": {
            "tags": []
          },
          "execution_count": 70
        },
        {
          "output_type": "display_data",
          "data": {
            "image/png": "[encoded data removed]",
            "text/plain": [
              "<Figure size 432x288 with 1 Axes>"
            ]
          },
          "metadata": {
            "tags": [],
            "needs_background": "light"
          }
        }
      ]
    },
    {
      "cell_type": "code",
      "metadata": {
        "id": "L8N4rVlIRl7V",
        "colab_type": "code",
        "colab": {
          "base_uri": "https://localhost:8080/",
          "height": 212
        },
        "outputId": "9e2aea80-a836-4d65-ba60-89f81d883f6c"
      },
      "source": [
        "train[train['challenge_sequence']==1]['challenge'].value_counts().nlargest(10)"
      ],
      "execution_count": null,
      "outputs": [
        {
          "output_type": "execute_result",
          "data": {
            "text/plain": [
              "CI23855    3397\n",
              "CI23663    2856\n",
              "CI23714    2591\n",
              "CI23933    1748\n",
              "CI24917    1298\n",
              "CI23691    1290\n",
              "CI23667    1242\n",
              "CI23648    1237\n",
              "CI23612    1133\n",
              "CI23769    1078\n",
              "Name: challenge, dtype: int64"
            ]
          },
          "metadata": {
            "tags": []
          },
          "execution_count": 71
        }
      ]
    },
    {
      "cell_type": "code",
      "metadata": {
        "id": "WTecH4NPROm1",
        "colab_type": "code",
        "colab": {
          "base_uri": "https://localhost:8080/",
          "height": 212
        },
        "outputId": "ad46d26b-1be6-4584-f5c8-76da1254c3f0"
      },
      "source": [
        "train[train['challenge_sequence']==2]['challenge'].value_counts().nlargest(10)"
      ],
      "execution_count": null,
      "outputs": [
        {
          "output_type": "execute_result",
          "data": {
            "text/plain": [
              "CI24917    1985\n",
              "CI23855    1351\n",
              "CI24530    1133\n",
              "CI23933    1123\n",
              "CI23975     898\n",
              "CI24915     825\n",
              "CI24958     789\n",
              "CI24527     675\n",
              "CI25135     671\n",
              "CI24261     660\n",
              "Name: challenge, dtype: int64"
            ]
          },
          "metadata": {
            "tags": []
          },
          "execution_count": 72
        }
      ]
    },
    {
      "cell_type": "markdown",
      "metadata": {
        "id": "svo7hT3GSWwC",
        "colab_type": "text"
      },
      "source": [
        "this are the top challenges which user have selected among the most challenge sequences"
      ]
    },
    {
      "cell_type": "markdown",
      "metadata": {
        "id": "Iyo85ZAjRFhG",
        "colab_type": "text"
      },
      "source": [
        "### 4.3 EDA on the training and challenge dataset after merging"
      ]
    },
    {
      "cell_type": "code",
      "metadata": {
        "id": "uTEcDyfpR4Bn",
        "colab_type": "code",
        "colab": {}
      },
      "source": [
        "challenge = challenge.rename(columns={'challenge_ID':'challenge'})\n",
        "challenge['publish_year'] = pd.DatetimeIndex(challenge['publish_date']).year\n",
        "train_challenge = pd.merge(train,challenge,on=[\"challenge\"],how=\"left\")"
      ],
      "execution_count": null,
      "outputs": []
    },
    {
      "cell_type": "code",
      "metadata": {
        "id": "7lEhRWCynVOA",
        "colab_type": "code",
        "colab": {
          "base_uri": "https://localhost:8080/",
          "height": 295
        },
        "outputId": "ff863b85-2a96-4de9-f823-053f62f0415b"
      },
      "source": [
        "train_challenge.groupby('programming_language')['user_id'].count().plot(kind='bar')"
      ],
      "execution_count": null,
      "outputs": [
        {
          "output_type": "execute_result",
          "data": {
            "text/plain": [
              "<matplotlib.axes._subplots.AxesSubplot at 0x7f37da3e2208>"
            ]
          },
          "metadata": {
            "tags": []
          },
          "execution_count": 80
        },
        {
          "output_type": "display_data",
          "data": {
            "image/png": "[encoded data removed]",
            "text/plain": [
              "<Figure size 432x288 with 1 Axes>"
            ]
          },
          "metadata": {
            "tags": [],
            "needs_background": "light"
          }
        }
      ]
    },
    {
      "cell_type": "code",
      "metadata": {
        "id": "HjLq-mtwSfPT",
        "colab_type": "code",
        "colab": {
          "base_uri": "https://localhost:8080/",
          "height": 106
        },
        "outputId": "5ac8d314-6ee1-4b3d-9c68-cb0864359fd0"
      },
      "source": [
        "train_challenge.groupby('programming_language')['user_id'].count()"
      ],
      "execution_count": null,
      "outputs": [
        {
          "output_type": "execute_result",
          "data": {
            "text/plain": [
              "programming_language\n",
              "1    897915\n",
              "2      3036\n",
              "3      2965\n",
              "Name: user_id, dtype: int64"
            ]
          },
          "metadata": {
            "tags": []
          },
          "execution_count": 74
        }
      ]
    },
    {
      "cell_type": "markdown",
      "metadata": {
        "id": "IIptPyDfSs8y",
        "colab_type": "text"
      },
      "source": [
        "- Most of the users like challenges with programming language as 1"
      ]
    },
    {
      "cell_type": "code",
      "metadata": {
        "id": "VwxsyPr7S5mu",
        "colab_type": "code",
        "colab": {
          "base_uri": "https://localhost:8080/",
          "height": 230
        },
        "outputId": "77ff4002-89f7-4ebe-87f0-8f02516e7d18"
      },
      "source": [
        "train_challenge.groupby('challenge_series_ID')['user_id'].count().nlargest(10)"
      ],
      "execution_count": null,
      "outputs": [
        {
          "output_type": "execute_result",
          "data": {
            "text/plain": [
              "challenge_series_ID\n",
              "SI2678    78588\n",
              "SI2634    50071\n",
              "SI2545    46643\n",
              "SI2556    44965\n",
              "SI2501    34312\n",
              "SI2468    32974\n",
              "SI2469    29578\n",
              "SI2694    28937\n",
              "SI2541    27867\n",
              "SI2472    26112\n",
              "Name: user_id, dtype: int64"
            ]
          },
          "metadata": {
            "tags": []
          },
          "execution_count": 75
        }
      ]
    },
    {
      "cell_type": "markdown",
      "metadata": {
        "id": "dnEqJ1ILTM6d",
        "colab_type": "text"
      },
      "source": [
        "- Challenge series with ID SI2678 have highest number of counts where most of the users interested"
      ]
    },
    {
      "cell_type": "code",
      "metadata": {
        "id": "yj3co6uRoL0-",
        "colab_type": "code",
        "colab": {
          "base_uri": "https://localhost:8080/",
          "height": 298
        },
        "outputId": "6eb4a8fd-3114-4e09-9ca7-53e649d44d02"
      },
      "source": [
        "train_challenge.groupby('publish_year')['user_id'].count().reset_index().sort_values(by=['publish_year'],ascending=False).rename(columns={'user_id':'user_count'})[['publish_year','user_count']].plot(x='publish_year')"
      ],
      "execution_count": null,
      "outputs": [
        {
          "output_type": "execute_result",
          "data": {
            "text/plain": [
              "<matplotlib.axes._subplots.AxesSubplot at 0x7f37d3c322e8>"
            ]
          },
          "metadata": {
            "tags": []
          },
          "execution_count": 101
        },
        {
          "output_type": "display_data",
          "data": {
            "image/png": "[encoded data removed]",
            "text/plain": [
              "<Figure size 432x288 with 1 Axes>"
            ]
          },
          "metadata": {
            "tags": [],
            "needs_background": "light"
          }
        }
      ]
    },
    {
      "cell_type": "code",
      "metadata": {
        "id": "8-XQe5MiTYU2",
        "colab_type": "code",
        "colab": {
          "base_uri": "https://localhost:8080/",
          "height": 266
        },
        "outputId": "d5497633-13dd-49e6-a38e-fe93076f3733"
      },
      "source": [
        "train_challenge.groupby('publish_year')['user_id'].count().sort_values(ascending=False)"
      ],
      "execution_count": null,
      "outputs": [
        {
          "output_type": "execute_result",
          "data": {
            "text/plain": [
              "publish_year\n",
              "2007    230882\n",
              "2006    163367\n",
              "2004     99004\n",
              "2005     88875\n",
              "2002     81582\n",
              "1999     74544\n",
              "2008     61320\n",
              "2003     56899\n",
              "2009     35687\n",
              "2001     11505\n",
              "2010       231\n",
              "2000        20\n",
              "Name: user_id, dtype: int64"
            ]
          },
          "metadata": {
            "tags": []
          },
          "execution_count": 96
        }
      ]
    },
    {
      "cell_type": "markdown",
      "metadata": {
        "id": "ub5OQY7MUA1J",
        "colab_type": "text"
      },
      "source": [
        "- challenges which are published in 2007, 2006, 2004, 2005 are the most liked challenges "
      ]
    },
    {
      "cell_type": "markdown",
      "metadata": {
        "id": "tQFFDp24NsBD",
        "colab_type": "text"
      },
      "source": [
        "## 5.Data Preprocessing after EDA"
      ]
    },
    {
      "cell_type": "markdown",
      "metadata": {
        "id": "JNGC0MSUOEcy",
        "colab_type": "text"
      },
      "source": [
        "#### 5.1 LabelEncoding to the categorical variables"
      ]
    },
    {
      "cell_type": "code",
      "metadata": {
        "id": "uyiHfXopNyUr",
        "colab_type": "code",
        "colab": {}
      },
      "source": [
        "le =LabelEncoder()\n",
        "challenge[\"challenge_series_ID\"] = le.fit_transform(challenge[\"challenge_series_ID\"].astype(str))\n",
        "challenge[\"total_submissions\"] = challenge[\"total_submissions\"].fillna(challenge[\"total_submissions\"].mean()).astype(int)\n",
        "challenge[\"category_id\"] = challenge[\"category_id\"].fillna(challenge[\"category_id\"].mean()).astype(int)"
      ],
      "execution_count": null,
      "outputs": []
    },
    {
      "cell_type": "markdown",
      "metadata": {
        "id": "8FtUKHMEO995",
        "colab_type": "text"
      },
      "source": [
        "#### 5.2 Taking year attribute out of publish date"
      ]
    },
    {
      "cell_type": "code",
      "metadata": {
        "id": "tjFDLDRfQ8pr",
        "colab_type": "code",
        "colab": {}
      },
      "source": [
        "challenge['publish_date'] = pd.DatetimeIndex(challenge['publish_date']).year"
      ],
      "execution_count": null,
      "outputs": []
    },
    {
      "cell_type": "markdown",
      "metadata": {
        "id": "4IKTO6TeQ90D",
        "colab_type": "text"
      },
      "source": [
        "#### 5.3 Merging test and train dataset with challenge dataset"
      ]
    },
    {
      "cell_type": "code",
      "metadata": {
        "id": "7UQTne28PEDu",
        "colab_type": "code",
        "colab": {}
      },
      "source": [
        "combine_set=pd.concat([train,test], ignore_index=True)\n",
        "mer_train = pd.merge(train,challenge,on=[\"challenge\"],how=\"left\")\n",
        "mer_test = pd.merge(test,challenge,on=[\"challenge\"],how=\"left\")\n",
        "mer_df = mer_train.append(mer_test).reset_index(drop=True)"
      ],
      "execution_count": null,
      "outputs": []
    },
    {
      "cell_type": "markdown",
      "metadata": {
        "id": "R2f3FaC7UOcN",
        "colab_type": "text"
      },
      "source": [
        "##6.Modelling"
      ]
    },
    {
      "cell_type": "markdown",
      "metadata": {
        "id": "BMOrDJ01UR0m",
        "colab_type": "text"
      },
      "source": [
        "#### 6.1 Simple modelling and using cosine similarity to find the recommendation Using NearestNeighbours (Item to Item similary here our Item is Challenge_ID's) \n",
        "\n"
      ]
    },
    {
      "cell_type": "markdown",
      "metadata": {
        "id": "vahPeelGUnao",
        "colab_type": "text"
      },
      "source": [
        "- I took challenge_sequence as rating for my recommendation"
      ]
    },
    {
      "cell_type": "code",
      "metadata": {
        "id": "i7HkG3GmVNjU",
        "colab_type": "code",
        "colab": {}
      },
      "source": [
        "total_data = mer_df.pivot_table(index='challenge',columns='user_id',values='challenge_sequence').fillna(0)"
      ],
      "execution_count": null,
      "outputs": []
    },
    {
      "cell_type": "code",
      "metadata": {
        "id": "iz7PPGvfWPx0",
        "colab_type": "code",
        "colab": {}
      },
      "source": [
        "from scipy.sparse import csr_matrix\n",
        "total_data_matrix = csr_matrix(total_data.values)"
      ],
      "execution_count": null,
      "outputs": []
    },
    {
      "cell_type": "code",
      "metadata": {
        "id": "KPQzhj1aWRPz",
        "colab_type": "code",
        "colab": {
          "base_uri": "https://localhost:8080/",
          "height": 70
        },
        "outputId": "34407190-9b38-4866-b007-74c7938b6ef7"
      },
      "source": [
        "from sklearn.neighbors import NearestNeighbors\n",
        "\n",
        "model_knn = NearestNeighbors(metric='cosine', algorithm = 'brute')\n",
        "model_knn.fit(total_data_matrix)"
      ],
      "execution_count": null,
      "outputs": [
        {
          "output_type": "execute_result",
          "data": {
            "text/plain": [
              "NearestNeighbors(algorithm='brute', leaf_size=30, metric='cosine',\n",
              "                 metric_params=None, n_jobs=None, n_neighbors=5, p=2,\n",
              "                 radius=1.0)"
            ]
          },
          "metadata": {
            "tags": []
          },
          "execution_count": 40
        }
      ]
    },
    {
      "cell_type": "markdown",
      "metadata": {
        "id": "xdouGDckXpQd",
        "colab_type": "text"
      },
      "source": [
        "- below function will give the cosine similarity distance between the two challenges"
      ]
    },
    {
      "cell_type": "code",
      "metadata": {
        "id": "QBgwh5JcXP1u",
        "colab_type": "code",
        "colab": {}
      },
      "source": [
        "def distance_func(total_data, distances,indices):\n",
        "  every = {}\n",
        "  for i in range(0, len(distances.flatten())):\n",
        "      if i == 0:\n",
        "        pass\n",
        "      else:\n",
        "        every[total_data.index[indices.flatten()[i]]] = distances.flatten()[i]\n",
        "  return every"
      ],
      "execution_count": null,
      "outputs": []
    },
    {
      "cell_type": "markdown",
      "metadata": {
        "id": "LRdoI8lhX0M3",
        "colab_type": "text"
      },
      "source": [
        "- we will calculate the distance between the items i.e. challenge Id's"
      ]
    },
    {
      "cell_type": "code",
      "metadata": {
        "id": "eHvbfdhCXkpF",
        "colab_type": "code",
        "colab": {}
      },
      "source": [
        "all_s = {}\n",
        "for i in total_data.index:\n",
        "    distances, indices = model_knn.kneighbors(total_data.loc[i].values.reshape(1, -1), n_neighbors = 10)\n",
        "    data = distance_func(total_data, distances,indices)\n",
        "    all_s[i] = data"
      ],
      "execution_count": null,
      "outputs": []
    },
    {
      "cell_type": "markdown",
      "metadata": {
        "id": "Rv40_l8IYnSA",
        "colab_type": "text"
      },
      "source": [
        "- below code is written to take the user_ids from the test dataset and suggesting the best challenge_IDS\n",
        "- this will give the challenge_sequence 11,12,13 which we want to generate for the user"
      ]
    },
    {
      "cell_type": "code",
      "metadata": {
        "id": "uOR-54NsYj6u",
        "colab_type": "code",
        "colab": {}
      },
      "source": [
        "final_df = pd.DataFrame(columns=['user_sequence','challenge'])\n",
        "counter = 0\n",
        "for user_id in test.user_id.unique():\n",
        "  challenge_ids_of_user = test[test.user_id==user_id]['challenge']\n",
        "  all_sss = {}\n",
        "  for i in challenge_ids_of_user:\n",
        "    # distances, indices = model_knn.kneighbors(total_data_train.loc[i].values.reshape(1, -1), n_neighbors = 4)\n",
        "    # data = distance_func(total_data_train, distances,indices)\n",
        "    if i in all_s:\n",
        "      data = all_s[i]\n",
        "      for key, value in data.items():\n",
        "        if key in all_sss:\n",
        "          if value < all_sss[key]:\n",
        "            all_sss.update({key:value})\n",
        "        else:\n",
        "          all_sss.update({key:value})\n",
        "      # all_sss.update(data)\n",
        "  for i in challenge_ids_of_user:\n",
        "    if i in all_sss:\n",
        "      del all_sss[i]\n",
        "  challenges = [*dict(sorted(all_sss.items(), key=lambda x:x[1])[:3])]\n",
        "  if len(challenges) == 0:\n",
        "    final_df.loc[counter,:] = str(user_id)+'_11', '0'\n",
        "    final_df.loc[counter+1,:] = str(user_id)+'_12', '0'\n",
        "    final_df.loc[counter+2,:] = str(user_id)+'_13', '0'\n",
        "    counter += 3\n",
        "    continue\n",
        "  if len(challenges) != 3:\n",
        "    for i in range(3):\n",
        "      challenges.append(challenges[0])\n",
        "  \n",
        "  final_df.loc[counter,:] = str(user_id)+'_11', challenges[0]\n",
        "  final_df.loc[counter+1,:] = str(user_id)+'_12', challenges[1]\n",
        "  final_df.loc[counter+2,:] = str(user_id)+'_13', challenges[2]\n",
        "  counter += 3"
      ],
      "execution_count": null,
      "outputs": []
    },
    {
      "cell_type": "markdown",
      "metadata": {
        "id": "vb5ks6s8ZSJ4",
        "colab_type": "text"
      },
      "source": [
        "- this will contain all the user_sequence 11,12,13 and recommended challenge ids"
      ]
    },
    {
      "cell_type": "code",
      "metadata": {
        "id": "OXxtWdoeYlgv",
        "colab_type": "code",
        "colab": {}
      },
      "source": [
        "final_df.to_csv('submit.csv', index=False)"
      ],
      "execution_count": null,
      "outputs": []
    },
    {
      "cell_type": "markdown",
      "metadata": {
        "id": "uBMqE0_4ZF3J",
        "colab_type": "text"
      },
      "source": [
        "- The Score which I got from submitting above code is **0.131606060606061**\n",
        "- then I used challenge_sequence-13 as rating feature for the dataset which gave me around score of **0.1351565657**"
      ]
    },
    {
      "cell_type": "markdown",
      "metadata": {
        "id": "Nk8GI8toZYlC",
        "colab_type": "text"
      },
      "source": [
        "### 6.2 Used Turicreate for the recommendation system Item-Item"
      ]
    },
    {
      "cell_type": "code",
      "metadata": {
        "id": "vnLCq2IwZp8I",
        "colab_type": "code",
        "colab": {}
      },
      "source": [
        "!pip install turicreate"
      ],
      "execution_count": null,
      "outputs": []
    },
    {
      "cell_type": "code",
      "metadata": {
        "id": "iNkW_sfzaHkq",
        "colab_type": "code",
        "colab": {}
      },
      "source": [
        "import turicreate as tc\n",
        "tc.config.set_num_gpus(1)"
      ],
      "execution_count": null,
      "outputs": []
    },
    {
      "cell_type": "markdown",
      "metadata": {
        "id": "n8sD03NuaKRx",
        "colab_type": "text"
      },
      "source": [
        "- Before passing the data to turicreate we need to convert it the SFrame(turicreate dataframe)"
      ]
    },
    {
      "cell_type": "code",
      "metadata": {
        "id": "K_jVEuqfaVtH",
        "colab_type": "code",
        "colab": {}
      },
      "source": [
        "# user_df and challenge_df is the data which we will pass to the turicreate which will extract features and use it further to increase recommendation\n",
        "user_data = mer_df.groupby(\"user_id\")[\"challenge_series_ID\"].agg(lambda x: pd.Series.mode(x)[0]).to_frame()\n",
        "user_data = user_data.reset_index()\n",
        "user_data = tc.SFrame(user_data)\n",
        "challenge_data = tc.SFrame(challenge)"
      ],
      "execution_count": null,
      "outputs": []
    },
    {
      "cell_type": "code",
      "metadata": {
        "id": "0ZcKUjpzau1F",
        "colab_type": "code",
        "colab": {
          "base_uri": "https://localhost:8080/",
          "height": 422
        },
        "outputId": "8aa71eae-502c-4b7c-a2b9-dbfacab5c2af"
      },
      "source": [
        "combine_set_tc=tc.SFrame(combine_set)\n",
        "m=tc.item_similarity_recommender.create(combine_set_tc, user_id='user_id',\n",
        "                                                            item_id='challenge',\n",
        "                                                            target='challenge_sequence',\n",
        "                                                            user_data=user_data,\n",
        "                                                            item_data = challenge_data,\n",
        "                                                            similarity_type = \"cosine\",\n",
        "                                                            )"
      ],
      "execution_count": null,
      "outputs": [
        {
          "output_type": "display_data",
          "data": {
            "text/html": [
              "<pre>Warning: Ignoring columns user_sequence;</pre>"
            ],
            "text/plain": [
              "Warning: Ignoring columns user_sequence;"
            ]
          },
          "metadata": {
            "tags": []
          }
        },
        {
          "output_type": "display_data",
          "data": {
            "text/html": [
              "<pre>    To use these columns in scoring predictions, use a model that allows the use of additional features.</pre>"
            ],
            "text/plain": [
              "    To use these columns in scoring predictions, use a model that allows the use of additional features."
            ]
          },
          "metadata": {
            "tags": []
          }
        },
        {
          "output_type": "display_data",
          "data": {
            "text/html": [
              "<pre>Preparing data set.</pre>"
            ],
            "text/plain": [
              "Preparing data set."
            ]
          },
          "metadata": {
            "tags": []
          }
        },
        {
          "output_type": "display_data",
          "data": {
            "text/html": [
              "<pre>    Data has 1301236 observations with 109264 users and 5606 items.</pre>"
            ],
            "text/plain": [
              "    Data has 1301236 observations with 109264 users and 5606 items."
            ]
          },
          "metadata": {
            "tags": []
          }
        },
        {
          "output_type": "display_data",
          "data": {
            "text/html": [
              "<pre>    Data prepared in: 1.29154s</pre>"
            ],
            "text/plain": [
              "    Data prepared in: 1.29154s"
            ]
          },
          "metadata": {
            "tags": []
          }
        },
        {
          "output_type": "display_data",
          "data": {
            "text/html": [
              "<pre>Training model from provided data.</pre>"
            ],
            "text/plain": [
              "Training model from provided data."
            ]
          },
          "metadata": {
            "tags": []
          }
        },
        {
          "output_type": "display_data",
          "data": {
            "text/html": [
              "<pre>Gathering per-item and per-user statistics.</pre>"
            ],
            "text/plain": [
              "Gathering per-item and per-user statistics."
            ]
          },
          "metadata": {
            "tags": []
          }
        },
        {
          "output_type": "display_data",
          "data": {
            "text/html": [
              "<pre>+--------------------------------+------------+</pre>"
            ],
            "text/plain": [
              "+--------------------------------+------------+"
            ]
          },
          "metadata": {
            "tags": []
          }
        },
        {
          "output_type": "display_data",
          "data": {
            "text/html": [
              "<pre>| Elapsed Time (Item Statistics) | % Complete |</pre>"
            ],
            "text/plain": [
              "| Elapsed Time (Item Statistics) | % Complete |"
            ]
          },
          "metadata": {
            "tags": []
          }
        },
        {
          "output_type": "display_data",
          "data": {
            "text/html": [
              "<pre>+--------------------------------+------------+</pre>"
            ],
            "text/plain": [
              "+--------------------------------+------------+"
            ]
          },
          "metadata": {
            "tags": []
          }
        },
        {
          "output_type": "display_data",
          "data": {
            "text/html": [
              "<pre>| 945us                          | 0.75       |</pre>"
            ],
            "text/plain": [
              "| 945us                          | 0.75       |"
            ]
          },
          "metadata": {
            "tags": []
          }
        },
        {
          "output_type": "display_data",
          "data": {
            "text/html": [
              "<pre>| 46.78ms                        | 100        |</pre>"
            ],
            "text/plain": [
              "| 46.78ms                        | 100        |"
            ]
          },
          "metadata": {
            "tags": []
          }
        },
        {
          "output_type": "display_data",
          "data": {
            "text/html": [
              "<pre>+--------------------------------+------------+</pre>"
            ],
            "text/plain": [
              "+--------------------------------+------------+"
            ]
          },
          "metadata": {
            "tags": []
          }
        },
        {
          "output_type": "display_data",
          "data": {
            "text/html": [
              "<pre>Setting up lookup tables.</pre>"
            ],
            "text/plain": [
              "Setting up lookup tables."
            ]
          },
          "metadata": {
            "tags": []
          }
        },
        {
          "output_type": "display_data",
          "data": {
            "text/html": [
              "<pre>Processing data in one pass using dense lookup tables.</pre>"
            ],
            "text/plain": [
              "Processing data in one pass using dense lookup tables."
            ]
          },
          "metadata": {
            "tags": []
          }
        },
        {
          "output_type": "display_data",
          "data": {
            "text/html": [
              "<pre>+-------------------------------------+------------------+-----------------+</pre>"
            ],
            "text/plain": [
              "+-------------------------------------+------------------+-----------------+"
            ]
          },
          "metadata": {
            "tags": []
          }
        },
        {
          "output_type": "display_data",
          "data": {
            "text/html": [
              "<pre>| Elapsed Time (Constructing Lookups) | Total % Complete | Items Processed |</pre>"
            ],
            "text/plain": [
              "| Elapsed Time (Constructing Lookups) | Total % Complete | Items Processed |"
            ]
          },
          "metadata": {
            "tags": []
          }
        },
        {
          "output_type": "display_data",
          "data": {
            "text/html": [
              "<pre>+-------------------------------------+------------------+-----------------+</pre>"
            ],
            "text/plain": [
              "+-------------------------------------+------------------+-----------------+"
            ]
          },
          "metadata": {
            "tags": []
          }
        },
        {
          "output_type": "display_data",
          "data": {
            "text/html": [
              "<pre>| 95.471ms                            | 0                | 0               |</pre>"
            ],
            "text/plain": [
              "| 95.471ms                            | 0                | 0               |"
            ]
          },
          "metadata": {
            "tags": []
          }
        },
        {
          "output_type": "display_data",
          "data": {
            "text/html": [
              "<pre>| 525.897ms                           | 100              | 5606            |</pre>"
            ],
            "text/plain": [
              "| 525.897ms                           | 100              | 5606            |"
            ]
          },
          "metadata": {
            "tags": []
          }
        },
        {
          "output_type": "display_data",
          "data": {
            "text/html": [
              "<pre>+-------------------------------------+------------------+-----------------+</pre>"
            ],
            "text/plain": [
              "+-------------------------------------+------------------+-----------------+"
            ]
          },
          "metadata": {
            "tags": []
          }
        },
        {
          "output_type": "display_data",
          "data": {
            "text/html": [
              "<pre>Finalizing lookup tables.</pre>"
            ],
            "text/plain": [
              "Finalizing lookup tables."
            ]
          },
          "metadata": {
            "tags": []
          }
        },
        {
          "output_type": "display_data",
          "data": {
            "text/html": [
              "<pre>Generating candidate set for working with new users.</pre>"
            ],
            "text/plain": [
              "Generating candidate set for working with new users."
            ]
          },
          "metadata": {
            "tags": []
          }
        },
        {
          "output_type": "display_data",
          "data": {
            "text/html": [
              "<pre>Finished training in 1.68598s</pre>"
            ],
            "text/plain": [
              "Finished training in 1.68598s"
            ]
          },
          "metadata": {
            "tags": []
          }
        }
      ]
    },
    {
      "cell_type": "markdown",
      "metadata": {
        "id": "4Ayxo6b9a_sj",
        "colab_type": "text"
      },
      "source": [
        "- get the best 3 recommendations for the user "
      ]
    },
    {
      "cell_type": "code",
      "metadata": {
        "id": "d9j87l-Raza-",
        "colab_type": "code",
        "colab": {
          "base_uri": "https://localhost:8080/",
          "height": 676
        },
        "outputId": "d77cde90-a0b3-468a-a3ed-0b9e8441714c"
      },
      "source": [
        "results = m.recommend(test[\"user_id\"].unique().tolist(),k=3)[\"challenge\"]"
      ],
      "execution_count": null,
      "outputs": [
        {
          "output_type": "display_data",
          "data": {
            "text/html": [
              "<pre>recommendations finished on 1000/39732 queries. users per second: 19861.4</pre>"
            ],
            "text/plain": [
              "recommendations finished on 1000/39732 queries. users per second: 19861.4"
            ]
          },
          "metadata": {
            "tags": []
          }
        },
        {
          "output_type": "display_data",
          "data": {
            "text/html": [
              "<pre>recommendations finished on 2000/39732 queries. users per second: 19019.5</pre>"
            ],
            "text/plain": [
              "recommendations finished on 2000/39732 queries. users per second: 19019.5"
            ]
          },
          "metadata": {
            "tags": []
          }
        },
        {
          "output_type": "display_data",
          "data": {
            "text/html": [
              "<pre>recommendations finished on 3000/39732 queries. users per second: 19149.1</pre>"
            ],
            "text/plain": [
              "recommendations finished on 3000/39732 queries. users per second: 19149.1"
            ]
          },
          "metadata": {
            "tags": []
          }
        },
        {
          "output_type": "display_data",
          "data": {
            "text/html": [
              "<pre>recommendations finished on 4000/39732 queries. users per second: 19291.7</pre>"
            ],
            "text/plain": [
              "recommendations finished on 4000/39732 queries. users per second: 19291.7"
            ]
          },
          "metadata": {
            "tags": []
          }
        },
        {
          "output_type": "display_data",
          "data": {
            "text/html": [
              "<pre>recommendations finished on 5000/39732 queries. users per second: 19390.7</pre>"
            ],
            "text/plain": [
              "recommendations finished on 5000/39732 queries. users per second: 19390.7"
            ]
          },
          "metadata": {
            "tags": []
          }
        },
        {
          "output_type": "display_data",
          "data": {
            "text/html": [
              "<pre>recommendations finished on 6000/39732 queries. users per second: 19400.4</pre>"
            ],
            "text/plain": [
              "recommendations finished on 6000/39732 queries. users per second: 19400.4"
            ]
          },
          "metadata": {
            "tags": []
          }
        },
        {
          "output_type": "display_data",
          "data": {
            "text/html": [
              "<pre>recommendations finished on 7000/39732 queries. users per second: 19404.7</pre>"
            ],
            "text/plain": [
              "recommendations finished on 7000/39732 queries. users per second: 19404.7"
            ]
          },
          "metadata": {
            "tags": []
          }
        },
        {
          "output_type": "display_data",
          "data": {
            "text/html": [
              "<pre>recommendations finished on 8000/39732 queries. users per second: 19425.6</pre>"
            ],
            "text/plain": [
              "recommendations finished on 8000/39732 queries. users per second: 19425.6"
            ]
          },
          "metadata": {
            "tags": []
          }
        },
        {
          "output_type": "display_data",
          "data": {
            "text/html": [
              "<pre>recommendations finished on 9000/39732 queries. users per second: 19410.4</pre>"
            ],
            "text/plain": [
              "recommendations finished on 9000/39732 queries. users per second: 19410.4"
            ]
          },
          "metadata": {
            "tags": []
          }
        },
        {
          "output_type": "display_data",
          "data": {
            "text/html": [
              "<pre>recommendations finished on 10000/39732 queries. users per second: 19377.4</pre>"
            ],
            "text/plain": [
              "recommendations finished on 10000/39732 queries. users per second: 19377.4"
            ]
          },
          "metadata": {
            "tags": []
          }
        },
        {
          "output_type": "display_data",
          "data": {
            "text/html": [
              "<pre>recommendations finished on 11000/39732 queries. users per second: 19203.1</pre>"
            ],
            "text/plain": [
              "recommendations finished on 11000/39732 queries. users per second: 19203.1"
            ]
          },
          "metadata": {
            "tags": []
          }
        },
        {
          "output_type": "display_data",
          "data": {
            "text/html": [
              "<pre>recommendations finished on 12000/39732 queries. users per second: 19212.2</pre>"
            ],
            "text/plain": [
              "recommendations finished on 12000/39732 queries. users per second: 19212.2"
            ]
          },
          "metadata": {
            "tags": []
          }
        },
        {
          "output_type": "display_data",
          "data": {
            "text/html": [
              "<pre>recommendations finished on 13000/39732 queries. users per second: 19218.6</pre>"
            ],
            "text/plain": [
              "recommendations finished on 13000/39732 queries. users per second: 19218.6"
            ]
          },
          "metadata": {
            "tags": []
          }
        },
        {
          "output_type": "display_data",
          "data": {
            "text/html": [
              "<pre>recommendations finished on 14000/39732 queries. users per second: 19138.7</pre>"
            ],
            "text/plain": [
              "recommendations finished on 14000/39732 queries. users per second: 19138.7"
            ]
          },
          "metadata": {
            "tags": []
          }
        },
        {
          "output_type": "display_data",
          "data": {
            "text/html": [
              "<pre>recommendations finished on 15000/39732 queries. users per second: 19121.3</pre>"
            ],
            "text/plain": [
              "recommendations finished on 15000/39732 queries. users per second: 19121.3"
            ]
          },
          "metadata": {
            "tags": []
          }
        },
        {
          "output_type": "display_data",
          "data": {
            "text/html": [
              "<pre>recommendations finished on 16000/39732 queries. users per second: 19106.9</pre>"
            ],
            "text/plain": [
              "recommendations finished on 16000/39732 queries. users per second: 19106.9"
            ]
          },
          "metadata": {
            "tags": []
          }
        },
        {
          "output_type": "display_data",
          "data": {
            "text/html": [
              "<pre>recommendations finished on 17000/39732 queries. users per second: 19127.9</pre>"
            ],
            "text/plain": [
              "recommendations finished on 17000/39732 queries. users per second: 19127.9"
            ]
          },
          "metadata": {
            "tags": []
          }
        },
        {
          "output_type": "display_data",
          "data": {
            "text/html": [
              "<pre>recommendations finished on 18000/39732 queries. users per second: 19141.6</pre>"
            ],
            "text/plain": [
              "recommendations finished on 18000/39732 queries. users per second: 19141.6"
            ]
          },
          "metadata": {
            "tags": []
          }
        },
        {
          "output_type": "display_data",
          "data": {
            "text/html": [
              "<pre>recommendations finished on 19000/39732 queries. users per second: 19161.2</pre>"
            ],
            "text/plain": [
              "recommendations finished on 19000/39732 queries. users per second: 19161.2"
            ]
          },
          "metadata": {
            "tags": []
          }
        },
        {
          "output_type": "display_data",
          "data": {
            "text/html": [
              "<pre>recommendations finished on 20000/39732 queries. users per second: 19180.2</pre>"
            ],
            "text/plain": [
              "recommendations finished on 20000/39732 queries. users per second: 19180.2"
            ]
          },
          "metadata": {
            "tags": []
          }
        },
        {
          "output_type": "display_data",
          "data": {
            "text/html": [
              "<pre>recommendations finished on 21000/39732 queries. users per second: 19195.6</pre>"
            ],
            "text/plain": [
              "recommendations finished on 21000/39732 queries. users per second: 19195.6"
            ]
          },
          "metadata": {
            "tags": []
          }
        },
        {
          "output_type": "display_data",
          "data": {
            "text/html": [
              "<pre>recommendations finished on 22000/39732 queries. users per second: 19212.9</pre>"
            ],
            "text/plain": [
              "recommendations finished on 22000/39732 queries. users per second: 19212.9"
            ]
          },
          "metadata": {
            "tags": []
          }
        },
        {
          "output_type": "display_data",
          "data": {
            "text/html": [
              "<pre>recommendations finished on 23000/39732 queries. users per second: 19221.7</pre>"
            ],
            "text/plain": [
              "recommendations finished on 23000/39732 queries. users per second: 19221.7"
            ]
          },
          "metadata": {
            "tags": []
          }
        },
        {
          "output_type": "display_data",
          "data": {
            "text/html": [
              "<pre>recommendations finished on 24000/39732 queries. users per second: 19038.4</pre>"
            ],
            "text/plain": [
              "recommendations finished on 24000/39732 queries. users per second: 19038.4"
            ]
          },
          "metadata": {
            "tags": []
          }
        },
        {
          "output_type": "display_data",
          "data": {
            "text/html": [
              "<pre>recommendations finished on 25000/39732 queries. users per second: 19036.9</pre>"
            ],
            "text/plain": [
              "recommendations finished on 25000/39732 queries. users per second: 19036.9"
            ]
          },
          "metadata": {
            "tags": []
          }
        },
        {
          "output_type": "display_data",
          "data": {
            "text/html": [
              "<pre>recommendations finished on 26000/39732 queries. users per second: 18993.1</pre>"
            ],
            "text/plain": [
              "recommendations finished on 26000/39732 queries. users per second: 18993.1"
            ]
          },
          "metadata": {
            "tags": []
          }
        },
        {
          "output_type": "display_data",
          "data": {
            "text/html": [
              "<pre>recommendations finished on 27000/39732 queries. users per second: 18950.6</pre>"
            ],
            "text/plain": [
              "recommendations finished on 27000/39732 queries. users per second: 18950.6"
            ]
          },
          "metadata": {
            "tags": []
          }
        },
        {
          "output_type": "display_data",
          "data": {
            "text/html": [
              "<pre>recommendations finished on 28000/39732 queries. users per second: 18951.4</pre>"
            ],
            "text/plain": [
              "recommendations finished on 28000/39732 queries. users per second: 18951.4"
            ]
          },
          "metadata": {
            "tags": []
          }
        },
        {
          "output_type": "display_data",
          "data": {
            "text/html": [
              "<pre>recommendations finished on 29000/39732 queries. users per second: 18955.7</pre>"
            ],
            "text/plain": [
              "recommendations finished on 29000/39732 queries. users per second: 18955.7"
            ]
          },
          "metadata": {
            "tags": []
          }
        },
        {
          "output_type": "display_data",
          "data": {
            "text/html": [
              "<pre>recommendations finished on 30000/39732 queries. users per second: 18898.6</pre>"
            ],
            "text/plain": [
              "recommendations finished on 30000/39732 queries. users per second: 18898.6"
            ]
          },
          "metadata": {
            "tags": []
          }
        },
        {
          "output_type": "display_data",
          "data": {
            "text/html": [
              "<pre>recommendations finished on 31000/39732 queries. users per second: 18893.1</pre>"
            ],
            "text/plain": [
              "recommendations finished on 31000/39732 queries. users per second: 18893.1"
            ]
          },
          "metadata": {
            "tags": []
          }
        },
        {
          "output_type": "display_data",
          "data": {
            "text/html": [
              "<pre>recommendations finished on 32000/39732 queries. users per second: 18902.2</pre>"
            ],
            "text/plain": [
              "recommendations finished on 32000/39732 queries. users per second: 18902.2"
            ]
          },
          "metadata": {
            "tags": []
          }
        },
        {
          "output_type": "display_data",
          "data": {
            "text/html": [
              "<pre>recommendations finished on 33000/39732 queries. users per second: 18906.9</pre>"
            ],
            "text/plain": [
              "recommendations finished on 33000/39732 queries. users per second: 18906.9"
            ]
          },
          "metadata": {
            "tags": []
          }
        },
        {
          "output_type": "display_data",
          "data": {
            "text/html": [
              "<pre>recommendations finished on 34000/39732 queries. users per second: 18857.5</pre>"
            ],
            "text/plain": [
              "recommendations finished on 34000/39732 queries. users per second: 18857.5"
            ]
          },
          "metadata": {
            "tags": []
          }
        },
        {
          "output_type": "display_data",
          "data": {
            "text/html": [
              "<pre>recommendations finished on 35000/39732 queries. users per second: 18849</pre>"
            ],
            "text/plain": [
              "recommendations finished on 35000/39732 queries. users per second: 18849"
            ]
          },
          "metadata": {
            "tags": []
          }
        },
        {
          "output_type": "display_data",
          "data": {
            "text/html": [
              "<pre>recommendations finished on 36000/39732 queries. users per second: 18866</pre>"
            ],
            "text/plain": [
              "recommendations finished on 36000/39732 queries. users per second: 18866"
            ]
          },
          "metadata": {
            "tags": []
          }
        },
        {
          "output_type": "display_data",
          "data": {
            "text/html": [
              "<pre>recommendations finished on 37000/39732 queries. users per second: 18882.5</pre>"
            ],
            "text/plain": [
              "recommendations finished on 37000/39732 queries. users per second: 18882.5"
            ]
          },
          "metadata": {
            "tags": []
          }
        },
        {
          "output_type": "display_data",
          "data": {
            "text/html": [
              "<pre>recommendations finished on 38000/39732 queries. users per second: 18887.9</pre>"
            ],
            "text/plain": [
              "recommendations finished on 38000/39732 queries. users per second: 18887.9"
            ]
          },
          "metadata": {
            "tags": []
          }
        },
        {
          "output_type": "display_data",
          "data": {
            "text/html": [
              "<pre>recommendations finished on 39000/39732 queries. users per second: 18886.5</pre>"
            ],
            "text/plain": [
              "recommendations finished on 39000/39732 queries. users per second: 18886.5"
            ]
          },
          "metadata": {
            "tags": []
          }
        }
      ]
    },
    {
      "cell_type": "code",
      "metadata": {
        "id": "bsW0aXuWa1BK",
        "colab_type": "code",
        "colab": {}
      },
      "source": [
        "submission_sample =pd.read_csv(r'https://raw.githubusercontent.com/shrikantnarayankar15/Insaid-ML-advanced-project/master/sample_submission.csv')\n",
        "\n",
        "submission_sample[\"challenge\"] = np.array(results).reshape(-1,1)\n",
        "\n",
        "submission_sample.to_csv(\"submit_target.csv\",index=False)"
      ],
      "execution_count": null,
      "outputs": []
    },
    {
      "cell_type": "markdown",
      "metadata": {
        "id": "45e866bxbKsn",
        "colab_type": "text"
      },
      "source": [
        "- The Score which I got from submitting above code is **0.20589702538400853** around something which was higher than the models which i used earlier"
      ]
    },
    {
      "cell_type": "markdown",
      "metadata": {
        "id": "80pPBt5kbZv4",
        "colab_type": "text"
      },
      "source": [
        "## 7.Conclusion"
      ]
    },
    {
      "cell_type": "markdown",
      "metadata": {
        "id": "PsLm-lFNbeR0",
        "colab_type": "text"
      },
      "source": [
        "- I have seen the recommendation system with rating but this one was new.\n",
        "- I tried SVD and user-to-user collabarative system it also failed gave around 0.02 score after submission\n",
        "- Learned new library Turicreate which is very usefull for the recommendation\n",
        "- I saw some of the guys used NLP to predict the recommendation, In future I want to try it"
      ]
    }
  ]
}